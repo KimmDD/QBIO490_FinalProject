{
 "cells": [
  {
   "cell_type": "code",
   "execution_count": 3,
   "id": "2d34ed3a",
   "metadata": {
    "scrolled": true
   },
   "outputs": [
    {
     "name": "stdout",
     "output_type": "stream",
     "text": [
      "                                         \r"
     ]
    }
   ],
   "source": [
    "import cptac\n",
    "cptac.download(dataset=\"Luad\")\n",
    "lung = cptac.Luad()"
   ]
  },
  {
   "cell_type": "code",
   "execution_count": 4,
   "id": "adapted-union",
   "metadata": {},
   "outputs": [],
   "source": [
    "import numpy as np\n",
    "import pandas as pd\n",
    "import matplotlib.pyplot as plt\n",
    "import seaborn as sns\n",
    "from scipy import stats "
   ]
  },
  {
   "cell_type": "code",
   "execution_count": 5,
   "id": "13e51b2e",
   "metadata": {},
   "outputs": [],
   "source": [
    "protein_data = lung.get_proteomics()\n",
    "# columns was a multiset, so used for loop to extract 1st item in each list which are the protein names\n",
    "protein_columns = protein_data.columns\n",
    "new_protein_columns = list()\n",
    "for i in range(len(protein_columns)):\n",
    "    new_protein_columns.append(protein_columns[i][0])\n",
    "rna_data = lung.get_transcriptomics()\n",
    "clinical_data = lung.get_clinical()"
   ]
  },
  {
   "cell_type": "code",
   "execution_count": 6,
   "id": "chemical-location",
   "metadata": {},
   "outputs": [],
   "source": [
    "name_intersects = [\n",
    "    np.intersect1d(protein_data.index , rna_data.index), \n",
    "    np.intersect1d(protein_data.index , clinical_data.index), \n",
    "    np.intersect1d(rna_data.index , clinical_data.index), \n",
    "]"
   ]
  },
  {
   "cell_type": "code",
   "execution_count": 7,
   "id": "e2589e94",
   "metadata": {},
   "outputs": [],
   "source": [
    "shared_rna_prot = np.intersect1d(rna_data.columns, new_protein_columns)\n",
    "\n",
    "rna_shared = rna_data.loc[name_intersects[0], shared_rna_prot]\n",
    "prot_shared = protein_data.loc[name_intersects[0], shared_rna_prot]\n",
    "prot_shared.columns = prot_shared.columns.droplevel(1)\n"
   ]
  },
  {
   "cell_type": "code",
   "execution_count": 8,
   "id": "a1002dc6",
   "metadata": {},
   "outputs": [
    {
     "name": "stdout",
     "output_type": "stream",
     "text": [
      "The correlation is 0.863 (p = 0.0).\n"
     ]
    },
    {
     "data": {
      "image/png": "[encoded data removed]",
      "text/plain": [
       "<Figure size 432x288 with 1 Axes>"
      ]
     },
     "metadata": {
      "needs_background": "light"
     },
     "output_type": "display_data"
    }
   ],
   "source": [
    "import matplotlib.pyplot as plt\n",
    "import seaborn as sns\n",
    "\n",
    "gene = \"GSTM1\"\n",
    "\n",
    "# get correlation and print\n",
    "corr, pval = stats.spearmanr(\n",
    "    rna_shared[gene], \n",
    "    prot_shared[gene], \n",
    "    nan_policy=\"omit\")\n",
    "\n",
    "print(f\"The correlation is {round(corr, 3)} (p = {round(pval, 6)}).\")\n",
    "\n",
    "# create scatter plot\n",
    "fig, ax = plt.subplots(1,1)\n",
    "sns.scatterplot(\n",
    "    x = rna_shared[gene], \n",
    "    y = prot_shared[gene], \n",
    "    ax = ax\n",
    ")\n",
    "\n",
    "ax.set(xlabel = \"RNA\", ylabel = \"Protein\")\n",
    "\n",
    "plt.show()"
   ]
  }
 ],
 "metadata": {
  "kernelspec": {
   "display_name": "Python 3 (ipykernel)",
   "language": "python",
   "name": "python3"
  },
  "language_info": {
   "codemirror_mode": {
    "name": "ipython",
    "version": 3
   },
   "file_extension": ".py",
   "mimetype": "text/x-python",
   "name": "python",
   "nbconvert_exporter": "python",
   "pygments_lexer": "ipython3",
   "version": "3.9.7"
  },
  "latex_envs": {
   "LaTeX_envs_menu_present": true,
   "autoclose": false,
   "autocomplete": true,
   "bibliofile": "biblio.bib",
   "cite_by": "apalike",
   "current_citInitial": 1,
   "eqLabelWithNumbers": true,
   "eqNumInitial": 1,
   "hotkeys": {
    "equation": "Ctrl-E",
    "itemize": "Ctrl-I"
   },
   "labels_anchors": false,
   "latex_user_defs": false,
   "report_style_numbering": false,
   "user_envs_cfg": false
  }
 },
 "nbformat": 4,
 "nbformat_minor": 5
}
